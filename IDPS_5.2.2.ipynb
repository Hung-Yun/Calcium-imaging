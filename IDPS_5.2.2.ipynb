{
 "cells": [
  {
   "cell_type": "code",
   "execution_count": 1,
   "metadata": {},
   "outputs": [],
   "source": [
    "import os\n",
    "import isx\n",
    "\n",
    "# In order to use matplotlib with anaconda and the isx module, we have to switch to\n",
    "# the TkAgg backend, there can be issues with Qt library conflicts otherwise.\n",
    "import matplotlib\n",
    "matplotlib.use('TkAgg')\n",
    "import matplotlib.pyplot as plt"
   ]
  },
  {
   "cell_type": "code",
   "execution_count": 2,
   "metadata": {},
   "outputs": [
    {
     "name": "stdout",
     "output_type": "stream",
     "text": [
      "Movie\n",
      "    file_path: D:/Calcium imaging/Inscopix_Projects/20190205/20190205_data_API/2019-02-05-11-00-04_video_recovered-PP-BP-MC-DFF.isxd\n",
      "    mode: r\n",
      "    timing: Timing(num_samples=13655, period=0.05s, start=2019-02-05 11:00:04, dropped=[], cropped=[])\n",
      "    spacing: Spacing(num_pixels=(367, 618))\n",
      "    data_type: <class 'numpy.float32'>        \n"
     ]
    }
   ],
   "source": [
    "data_dir = 'D:\\\\Calcium imaging\\\\Inscopix_Projects\\\\20190205\\\\20190205_data_API'\n",
    "data = os.path.join(data_dir, '2019-02-05-11-00-04_video_recovered-PP-BP-MC-DFF')\n",
    "movie = isx.Movie.read(data + '.isxd')\n",
    "print(movie)"
   ]
  },
  {
   "cell_type": "code",
   "execution_count": 3,
   "metadata": {},
   "outputs": [],
   "source": [
    "# Get the first frame and show it.\n",
    "frame0 = movie.get_frame_data(0)\n",
    "plt.imshow(frame0)\n",
    "plt.show()"
   ]
  },
  {
   "cell_type": "code",
   "execution_count": 4,
   "metadata": {},
   "outputs": [
    {
     "name": "stdout",
     "output_type": "stream",
     "text": [
      "CellSet\n",
      "    file_path: D:/Calcium imaging/Inscopix_Projects/20190205/20190205_data_API/2019-02-05-11-00-04_video_recovered-PP-BP-MC-DFF-PCA-ICA.isxd\n",
      "    mode: r\n",
      "    timing: Timing(num_samples=13655, period=0.05s, start=2019-02-05 11:00:04, dropped=[], cropped=[])\n",
      "    spacing: Spacing(num_pixels=(367, 618))\n",
      "    num_cells: 180        \n"
     ]
    }
   ],
   "source": [
    "# Read the corresponding cell set extracted using PCA-ICA and print it.\n",
    "cell_set = isx.CellSet.read(data + '-PCA-ICA.isxd')\n",
    "print(cell_set)\n",
    "# Get the image of the first cell and show it.\n",
    "cell0_image = cell_set.get_cell_image_data(0) # Image of the first cell\n",
    "plt.imshow(cell0_image)\n",
    "plt.show()"
   ]
  },
  {
   "cell_type": "code",
   "execution_count": 5,
   "metadata": {},
   "outputs": [],
   "source": [
    "# Get the trace of the first cell and plot it with time stamps.\n",
    "time_stamps = [offset.secs_float for offset in cell_set.timing.get_offsets_since_start()]\n",
    "cell0_trace = cell_set.get_cell_trace_data(0)\n",
    "plt.plot(time_stamps, cell0_trace)\n",
    "plt.xlabel('Time since Start (s)')\n",
    "plt.ylabel('Trace Value')\n",
    "plt.show()"
   ]
  },
  {
   "cell_type": "code",
   "execution_count": 6,
   "metadata": {},
   "outputs": [
    {
     "name": "stdout",
     "output_type": "stream",
     "text": [
      "EventSet\n",
      "    file_path: D:/Calcium imaging/Inscopix_Projects/20190205/20190205_data_API/2019-02-05-11-00-04_video_recovered-PP-BP-MC-DFF-PCA-ICA-ED.isxd\n",
      "    mode: r\n",
      "    timing: Timing(num_samples=13655, period=0.05s, start=2019-02-05 11:00:04, dropped=[], cropped=[])\n",
      "    num_cells: 180        \n"
     ]
    }
   ],
   "source": [
    "# Read the corresponding event and print it.\n",
    "event_set = isx.EventSet.read(data + '-PCA-ICA-ED.isxd')\n",
    "print(event_set)\n",
    "# Read the events of the first cell and plot them with the trace.\n",
    "cell0_event_usecs, cell0_event_amps = event_set.get_cell_data(0)\n",
    "plt.plot(time_stamps, cell0_trace, label='Trace')\n",
    "plt.plot(cell0_event_usecs * 1e-6, cell0_event_amps, 'r.', label='Events')\n",
    "plt.xlabel('Time since Start (s)')\n",
    "plt.ylabel('Trace/Event Value')\n",
    "plt.legend()\n",
    "plt.show()"
   ]
  }
 ],
 "metadata": {
  "kernelspec": {
   "display_name": "Python 3",
   "language": "python",
   "name": "python3"
  },
  "language_info": {
   "codemirror_mode": {
    "name": "ipython",
    "version": 3
   },
   "file_extension": ".py",
   "mimetype": "text/x-python",
   "name": "python",
   "nbconvert_exporter": "python",
   "pygments_lexer": "ipython3",
   "version": "3.7.8"
  }
 },
 "nbformat": 4,
 "nbformat_minor": 4
}
