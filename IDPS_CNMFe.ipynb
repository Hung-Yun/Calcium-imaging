{
 "cells": [
  {
   "cell_type": "code",
   "execution_count": 1,
   "metadata": {},
   "outputs": [],
   "source": [
    "import os\n",
    "import isx_temp\n",
    "import isx_temp.cnmfe"
   ]
  },
  {
   "cell_type": "code",
   "execution_count": 2,
   "metadata": {},
   "outputs": [],
   "source": [
    "# Define the recording path to the cell set and event data, \n",
    "# as done in the standard workflow example\n",
    "data_dir   = 'D:\\\\Calcium imaging\\\\20190205\\\\20190205_left\\\\Session-20190205-102719'\n",
    "output_dir = 'D:\\\\Calcium imaging\\\\Inscopix_Projects\\\\20190205\\\\20190205_data_API'\n",
    "\n",
    "# Pick out a movie from a particular session.\n",
    "# Note: mov_file has to be a list.\n",
    "mov_file = [os.path.join(data_dir, '2019-02-05-11-00-04_video_recovered.isxd')]\n",
    "pp_files = isx_temp.make_output_file_paths(mov_file, output_dir, 'CNMFe_PP')\n",
    "\n",
    "for pp_file in pp_files:\n",
    "    if os.path.exists(pp_file):\n",
    "        os.remove(pp_file)\n",
    "    isx_temp.preprocess(mov_file, pp_files,\n",
    "                   spatial_downsample_factor=8,\n",
    "                   temporal_downsample_factor=2)"
   ]
  },
  {
   "cell_type": "code",
   "execution_count": 3,
   "metadata": {},
   "outputs": [
    {
     "name": "stdout",
     "output_type": "stream",
     "text": [
      "Exporting .isxd to tiff file(s)...\n",
      "Wrote .tiff file to: D:\\Calcium imaging\\Inscopix_Projects\\20190205\\20190205_data_API\\2019-02-05-11-00-04_video_recovered-CNMFe_PP.tiff\n"
     ]
    }
   ],
   "source": [
    "cellset_file = os.path.join(output_dir, '2019-02-05-11-00-04_video_recovered-CNMFe_PP-CNMFE.isxd')\n",
    "events_file  = os.path.join(output_dir, '2019-02-05-11-00-04_video_recovered-CNMFe_PP-CNMFE-ED.isxd')\n",
    "\n",
    "# remove output files if they already exist\n",
    "if os.path.exists(cellset_file):\n",
    "    os.remove(cellset_file)\n",
    "if os.path.exists(events_file):\n",
    "    os.remove(events_file)\n",
    "    \n",
    "isx_temp.cnmfe.run_cnmfe(pp_files, cellset_file, events_file, \n",
    "                    num_processes=1, overwrite_tiff=True, K=20, rf=[25, 25], stride=6, \n",
    "                    gSig=5, gSiz=10, min_pnr=30, min_corr=0.9, event_threshold=0.1)"
   ]
  },
  {
   "cell_type": "markdown",
   "metadata": {},
   "source": [
    "# From the S1prism data"
   ]
  },
  {
   "cell_type": "code",
   "execution_count": 12,
   "metadata": {},
   "outputs": [],
   "source": [
    "import os\n",
    "import isx_temp\n",
    "import isx_temp.onacide"
   ]
  },
  {
   "cell_type": "code",
   "execution_count": 4,
   "metadata": {},
   "outputs": [],
   "source": [
    "the_path = 'D:\\Calcium imaging\\S1prism_AAV1_demo_with_LR\\S1prism_AAV1_demo_with_LR'\n",
    "data_dir = os.path.join(the_path, 'S1prism_AAV1_demo_v2_data')\n",
    "# Pick out a movie from a particular session.\n",
    "mov_file = os.path.join(data_dir, 'recording_20160616_104600-PP-PP-BP.isxd')\n",
    "# spatially downsample the movie 2X, making sure to set fix_defective_pixels to False because the movie has already\n",
    "# been preprocessed, and we don't want to median filter the movie a second time.\n",
    "pp_mov_file = os.path.join(data_dir, 'recording_20160616_104600-PP-PP-BP-PP.isxd')\n",
    "if not os.path.exists(pp_mov_file):\n",
    "    isx.preprocess(mov_file, pp_mov_file, temporal_downsample_factor=1,\n",
    "    spatial_downsample_factor=2, fix_defective_pixels=False)"
   ]
  },
  {
   "cell_type": "code",
   "execution_count": 5,
   "metadata": {},
   "outputs": [],
   "source": [
    "cellset_file = os.path.join(data_dir, 'recording_20160616_104600-PP-PP-BP-PP-CNMFE.isxd')\n",
    "events_file = os.path.join(data_dir, 'recording_20160616_104600-PP-PP-BP-PP-CNMFE-ED.isxd')\n",
    "# remove output files if they already exist\n",
    "if os.path.exists(cellset_file):\n",
    "    os.remove(cellset_file)\n",
    "if os.path.exists(events_file):\n",
    "    os.remove(events_file)"
   ]
  },
  {
   "cell_type": "code",
   "execution_count": 7,
   "metadata": {},
   "outputs": [
    {
     "name": "stdout",
     "output_type": "stream",
     "text": [
      "Exporting .isxd to tiff file(s)...\n",
      "Wrote .tiff file to: D:\\Calcium imaging\\S1prism_AAV1_demo_with_LR\\S1prism_AAV1_demo_with_LR\\S1prism_AAV1_demo_v2_data\\recording_20160616_104600-PP-PP-BP-PP.tiff\n"
     ]
    }
   ],
   "source": [
    "isx_temp.onacide.run_cnmfe(pp_mov_file, cellset_file, events_file, num_processes=2, overwrite_tiff=True, K=20,rf=[25, 25], stride=6,\n",
    "gSig=5, gSiz=10, min_pnr=30, min_corr=0.9, event_threshold=0.1)"
   ]
  },
  {
   "cell_type": "code",
   "execution_count": null,
   "metadata": {},
   "outputs": [],
   "source": []
  }
 ],
 "metadata": {
  "kernelspec": {
   "display_name": "Python 3",
   "language": "python",
   "name": "python3"
  },
  "language_info": {
   "codemirror_mode": {
    "name": "ipython",
    "version": 3
   },
   "file_extension": ".py",
   "mimetype": "text/x-python",
   "name": "python",
   "nbconvert_exporter": "python",
   "pygments_lexer": "ipython3",
   "version": "3.7.8"
  }
 },
 "nbformat": 4,
 "nbformat_minor": 4
}
